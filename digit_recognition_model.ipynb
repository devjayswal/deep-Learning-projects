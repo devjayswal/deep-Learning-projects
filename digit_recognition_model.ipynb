{
 "cells": [
  {
   "cell_type": "code",
   "execution_count": 29,
   "id": "initial_id",
   "metadata": {
    "collapsed": true,
    "ExecuteTime": {
     "end_time": "2023-10-02T18:29:44.647375100Z",
     "start_time": "2023-10-02T18:29:44.635359300Z"
    }
   },
   "outputs": [],
   "source": [
    "\"\"\"this jupiiter notebook is documentationn of tensorflow and keras important function and \n",
    "guide for how import model , how train and how preprocess the data\"\"\"\n",
    "\n",
    "import tensorflow as tf\n",
    "from tensorflow import keras\n",
    "import matplotlib.pyplot as plt\n",
    "import numpy as np \n",
    "%matplotlib inline\n"
   ]
  },
  {
   "cell_type": "code",
   "execution_count": 30,
   "outputs": [],
   "source": [
    " (X_train , y_train) ,(X_test, y_test) = keras.datasets.mnist.load_data()"
   ],
   "metadata": {
    "collapsed": false,
    "ExecuteTime": {
     "end_time": "2023-10-02T18:29:45.606562200Z",
     "start_time": "2023-10-02T18:29:44.969684400Z"
    }
   },
   "id": "d990341902dbe8af"
  },
  {
   "cell_type": "code",
   "execution_count": 31,
   "outputs": [
    {
     "name": "stdout",
     "output_type": "stream",
     "text": [
      "The shape of traing sets of input and output is (60000, 60000) /n the test set size are (10000, 10000)\n"
     ]
    }
   ],
   "source": [
    "print(f\"The shape of traing sets of input and output is {len(X_train),len(y_train)} /n the test set size are {len(X_test) , len(y_test)}\")"
   ],
   "metadata": {
    "collapsed": false,
    "ExecuteTime": {
     "end_time": "2023-10-02T18:29:45.635952300Z",
     "start_time": "2023-10-02T18:29:45.613321600Z"
    }
   },
   "id": "22c023c9563caa58"
  },
  {
   "cell_type": "code",
   "execution_count": 32,
   "outputs": [
    {
     "name": "stdout",
     "output_type": "stream",
     "text": [
      "and the shape is  (28, 28)\n"
     ]
    }
   ],
   "source": [
    "print(\"and the shape is \" , X_train[0].shape)"
   ],
   "metadata": {
    "collapsed": false,
    "ExecuteTime": {
     "end_time": "2023-10-02T18:29:45.685259200Z",
     "start_time": "2023-10-02T18:29:45.644072400Z"
    }
   },
   "id": "a8d405580dc1ae07"
  },
  {
   "cell_type": "code",
   "execution_count": 33,
   "outputs": [
    {
     "data": {
      "text/plain": "<matplotlib.image.AxesImage at 0x22416eb1450>"
     },
     "execution_count": 33,
     "metadata": {},
     "output_type": "execute_result"
    },
    {
     "data": {
      "text/plain": "<Figure size 480x480 with 1 Axes>",
      "image/png": "[encoded data removed]"
     },
     "metadata": {},
     "output_type": "display_data"
    }
   ],
   "source": [
    "plt.matshow(X_train[3])"
   ],
   "metadata": {
    "collapsed": false,
    "ExecuteTime": {
     "end_time": "2023-10-02T18:29:46.603280100Z",
     "start_time": "2023-10-02T18:29:46.071555600Z"
    }
   },
   "id": "2e2af6482ce8ad30"
  },
  {
   "cell_type": "code",
   "execution_count": 34,
   "outputs": [],
   "source": [
    "X_train = X_train/255\n",
    "X_test = X_test/255"
   ],
   "metadata": {
    "collapsed": false,
    "ExecuteTime": {
     "end_time": "2023-10-02T18:29:47.037161500Z",
     "start_time": "2023-10-02T18:29:46.607280700Z"
    }
   },
   "id": "449f818dd136203b"
  },
  {
   "cell_type": "code",
   "execution_count": 35,
   "outputs": [],
   "source": [
    "X_train_flattened = X_train.reshape(len(X_train),28*28)\n",
    "X_test_flattened = X_test.reshape(len(X_test),28*28)"
   ],
   "metadata": {
    "collapsed": false,
    "ExecuteTime": {
     "end_time": "2023-10-02T18:29:47.127339900Z",
     "start_time": "2023-10-02T18:29:47.043246200Z"
    }
   },
   "id": "7c28cee7643ec90e"
  },
  {
   "cell_type": "code",
   "execution_count": 48,
   "outputs": [
    {
     "ename": "SyntaxError",
     "evalue": "invalid syntax. Perhaps you forgot a comma? (2015004357.py, line 2)",
     "output_type": "error",
     "traceback": [
      "\u001B[1;36m  Cell \u001B[1;32mIn[48], line 2\u001B[1;36m\u001B[0m\n\u001B[1;33m    keras.layers.Dense(100 , input_shape=(784,) , activation='relu')\u001B[0m\n\u001B[1;37m    ^\u001B[0m\n\u001B[1;31mSyntaxError\u001B[0m\u001B[1;31m:\u001B[0m invalid syntax. Perhaps you forgot a comma?\n"
     ]
    }
   ],
   "source": [
    "model = keras.Sequential([\n",
    "    keras.layers.Dense(100 , input_shape=(784,) , activation='relu')\n",
    "    keras.layers.Dense(10 , activation='sigmoid')\n",
    "\n",
    "])\n",
    "model.compile(optimizer='adam',\n",
    "              loss='sparse_categorical_crossentropy',\n",
    "              metrics=['accuracy']\n",
    "              )\n",
    "model.fit(X_train_flattened,y_train, epochs= 10)"
   ],
   "metadata": {
    "collapsed": false,
    "ExecuteTime": {
     "end_time": "2023-10-02T18:40:40.588447900Z",
     "start_time": "2023-10-02T18:40:40.560857300Z"
    }
   },
   "id": "a5c85aaf6470dc9"
  },
  {
   "cell_type": "code",
   "execution_count": 49,
   "outputs": [
    {
     "name": "stdout",
     "output_type": "stream",
     "text": [
      "313/313 [==============================] - 1s 2ms/step - loss: 0.2652 - accuracy: 0.9267\n"
     ]
    },
    {
     "data": {
      "text/plain": "[0.2651902139186859, 0.9266999959945679]"
     },
     "execution_count": 49,
     "metadata": {},
     "output_type": "execute_result"
    }
   ],
   "source": [
    "model.evaluate(X_test_flattened, y_test)"
   ],
   "metadata": {
    "collapsed": false,
    "ExecuteTime": {
     "end_time": "2023-10-02T18:40:41.819328600Z",
     "start_time": "2023-10-02T18:40:41.150955900Z"
    }
   },
   "id": "cbc2d96bd6d161ee"
  },
  {
   "cell_type": "code",
   "execution_count": 50,
   "outputs": [
    {
     "data": {
      "text/plain": "<matplotlib.image.AxesImage at 0x224018f04d0>"
     },
     "execution_count": 50,
     "metadata": {},
     "output_type": "execute_result"
    },
    {
     "data": {
      "text/plain": "<Figure size 480x480 with 1 Axes>",
      "image/png": "[encoded data removed]"
     },
     "metadata": {},
     "output_type": "display_data"
    }
   ],
   "source": [
    "plt.matshow(X_test[0])"
   ],
   "metadata": {
    "collapsed": false,
    "ExecuteTime": {
     "end_time": "2023-10-02T18:40:42.078419400Z",
     "start_time": "2023-10-02T18:40:41.815204500Z"
    }
   },
   "id": "dd92445d212d8f5d"
  },
  {
   "cell_type": "markdown",
   "source": [],
   "metadata": {
    "collapsed": false
   },
   "id": "6180845c2f62c086"
  },
  {
   "cell_type": "code",
   "execution_count": 51,
   "outputs": [
    {
     "name": "stdout",
     "output_type": "stream",
     "text": [
      "313/313 [==============================] - 0s 1ms/step\n"
     ]
    },
    {
     "data": {
      "text/plain": "array([4.6212026e-03, 1.7229807e-08, 1.3719305e-02, 9.7267699e-01,\n       1.1952149e-03, 1.5412678e-01, 4.7650300e-08, 9.9984109e-01,\n       7.7779278e-02, 6.2342536e-01], dtype=float32)"
     },
     "execution_count": 51,
     "metadata": {},
     "output_type": "execute_result"
    }
   ],
   "source": [
    "y_predict= model.predict(X_test_flattened)\n",
    "y_predict[0]"
   ],
   "metadata": {
    "collapsed": false,
    "ExecuteTime": {
     "end_time": "2023-10-02T18:40:44.672820200Z",
     "start_time": "2023-10-02T18:40:43.998954700Z"
    }
   },
   "id": "f1e142c1fcabe4f3"
  },
  {
   "cell_type": "code",
   "execution_count": 52,
   "outputs": [],
   "source": [
    "y_predict_label = [np.argmax(i) for i in y_predict]"
   ],
   "metadata": {
    "collapsed": false,
    "ExecuteTime": {
     "end_time": "2023-10-02T18:40:45.280430900Z",
     "start_time": "2023-10-02T18:40:45.238565900Z"
    }
   },
   "id": "b67c294f7c403aee"
  },
  {
   "cell_type": "code",
   "execution_count": 53,
   "outputs": [
    {
     "data": {
      "text/plain": "<tf.Tensor: shape=(10, 10), dtype=int32, numpy=\narray([[ 960,    0,    1,    2,    0,    6,    7,    3,    1,    0],\n       [   0, 1112,    3,    2,    0,    1,    4,    2,   11,    0],\n       [   5,   11,  910,   22,    7,    4,   13,   11,   46,    3],\n       [   1,    0,   14,  932,    0,   21,    2,   10,   24,    6],\n       [   1,    1,    5,    2,  912,    0,   11,    5,   11,   34],\n       [   7,    2,    3,   38,    6,  785,   12,    8,   26,    5],\n       [  11,    3,    5,    1,    7,   14,  914,    1,    2,    0],\n       [   1,    6,   18,   10,    5,    1,    0,  956,    4,   27],\n       [   5,    9,    6,   25,    9,   25,    9,   12,  869,    5],\n       [  10,    8,    1,   12,   22,    6,    0,   25,    8,  917]])>"
     },
     "execution_count": 53,
     "metadata": {},
     "output_type": "execute_result"
    }
   ],
   "source": [
    "cm = tf.math.confusion_matrix(labels = y_test, predictions=y_predict_label)\n",
    "cm"
   ],
   "metadata": {
    "collapsed": false,
    "ExecuteTime": {
     "end_time": "2023-10-02T18:40:46.046931900Z",
     "start_time": "2023-10-02T18:40:46.029605600Z"
    }
   },
   "id": "dc21a4b1ce312d43"
  },
  {
   "cell_type": "code",
   "execution_count": 54,
   "outputs": [
    {
     "data": {
      "text/plain": "Text(95.72222222222221, 0.5, 'Truth')"
     },
     "execution_count": 54,
     "metadata": {},
     "output_type": "execute_result"
    },
    {
     "data": {
      "text/plain": "<Figure size 1000x700 with 2 Axes>",
      "image/png": "[encoded data removed]"
     },
     "metadata": {},
     "output_type": "display_data"
    }
   ],
   "source": [
    "import seaborn as sn \n",
    "plt.figure(figsize=(10,7))\n",
    "sn.heatmap(cm, annot=True,fmt = 'd')\n",
    "plt.xlabel('Predicted')\n",
    "plt.ylabel('Truth')"
   ],
   "metadata": {
    "collapsed": false,
    "ExecuteTime": {
     "end_time": "2023-10-02T18:40:47.219874Z",
     "start_time": "2023-10-02T18:40:46.655678800Z"
    }
   },
   "id": "9a5efb0647f43e2a"
  },
  {
   "cell_type": "code",
   "execution_count": 56,
   "outputs": [
    {
     "name": "stdout",
     "output_type": "stream",
     "text": [
      "Epoch 1/10\n",
      "1875/1875 [==============================] - 6s 3ms/step - loss: 0.2708 - accuracy: 0.9229\n",
      "Epoch 2/10\n",
      "1875/1875 [==============================] - 6s 3ms/step - loss: 0.1205 - accuracy: 0.9644\n",
      "Epoch 3/10\n",
      "1875/1875 [==============================] - 6s 3ms/step - loss: 0.0822 - accuracy: 0.9757\n",
      "Epoch 4/10\n",
      "1875/1875 [==============================] - 6s 3ms/step - loss: 0.0627 - accuracy: 0.9813\n",
      "Epoch 5/10\n",
      "1875/1875 [==============================] - 6s 3ms/step - loss: 0.0492 - accuracy: 0.9851\n",
      "Epoch 6/10\n",
      "1875/1875 [==============================] - 6s 3ms/step - loss: 0.0401 - accuracy: 0.9881\n",
      "Epoch 7/10\n",
      "1875/1875 [==============================] - 6s 3ms/step - loss: 0.0324 - accuracy: 0.9898\n",
      "Epoch 8/10\n",
      "1875/1875 [==============================] - 8s 4ms/step - loss: 0.0274 - accuracy: 0.9914\n",
      "Epoch 9/10\n",
      "1875/1875 [==============================] - 6s 3ms/step - loss: 0.0225 - accuracy: 0.9930\n",
      "Epoch 10/10\n",
      "1875/1875 [==============================] - 7s 4ms/step - loss: 0.0189 - accuracy: 0.9940\n"
     ]
    },
    {
     "data": {
      "text/plain": "<keras.src.callbacks.History at 0x2240296f650>"
     },
     "execution_count": 56,
     "metadata": {},
     "output_type": "execute_result"
    }
   ],
   "source": [
    "model = keras.Sequential([\n",
    "    keras.layers.Flatten(input_shape=(28, 28)),\n",
    "    keras.layers.Dense(100 , activation='relu'),\n",
    "    keras.layers.Dense(10 , activation='sigmoid')\n",
    "\n",
    "])\n",
    "model.compile(optimizer='adam',\n",
    "              loss='sparse_categorical_crossentropy',\n",
    "              metrics=['accuracy']\n",
    "              )\n",
    "model.fit(X_train,y_train, epochs= 10)"
   ],
   "metadata": {
    "collapsed": false,
    "ExecuteTime": {
     "end_time": "2023-10-02T18:45:34.703017400Z",
     "start_time": "2023-10-02T18:44:32.951606500Z"
    }
   },
   "id": "3782e28a2014871"
  },
  {
   "cell_type": "code",
   "execution_count": null,
   "outputs": [],
   "source": [],
   "metadata": {
    "collapsed": false
   },
   "id": "a90d5a89f82bcb34"
  }
 ],
 "metadata": {
  "kernelspec": {
   "display_name": "Python 3",
   "language": "python",
   "name": "python3"
  },
  "language_info": {
   "codemirror_mode": {
    "name": "ipython",
    "version": 2
   },
   "file_extension": ".py",
   "mimetype": "text/x-python",
   "name": "python",
   "nbconvert_exporter": "python",
   "pygments_lexer": "ipython2",
   "version": "2.7.6"
  }
 },
 "nbformat": 4,
 "nbformat_minor": 5
}
